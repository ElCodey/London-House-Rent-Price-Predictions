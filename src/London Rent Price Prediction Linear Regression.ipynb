{
 "cells": [
  {
   "cell_type": "code",
   "execution_count": 1,
   "id": "a384f89a",
   "metadata": {},
   "outputs": [],
   "source": [
    "import pandas as pd\n",
    "import numpy as np\n",
    "\n",
    "import matplotlib.pyplot as plt\n",
    "\n",
    "import joblib\n",
    "\n",
    "from model import lin_model_predict, lin_model_train, split_data, split_data_no_dummy, save_model\n",
    "from sklearn.linear_model import LinearRegression\n",
    "from sklearn.model_selection import train_test_split\n",
    "from sklearn.metrics import mean_absolute_error, mean_squared_error, r2_score"
   ]
  },
  {
   "cell_type": "markdown",
   "id": "0491b62e",
   "metadata": {},
   "source": [
    "### Data Cleaning and EDA\n",
    "\n",
    "The data has been scraped and cleaned through the py files which can be found in the src folder. "
   ]
  },
  {
   "cell_type": "code",
   "execution_count": 2,
   "id": "cefca227",
   "metadata": {},
   "outputs": [],
   "source": [
    "df = pd.read_csv(\"zoopla_clean_df.csv\", index_col=0)"
   ]
  },
  {
   "cell_type": "code",
   "execution_count": 3,
   "id": "26a561c0",
   "metadata": {},
   "outputs": [
    {
     "data": {
      "text/html": [
       "<div>\n",
       "<style scoped>\n",
       "    .dataframe tbody tr th:only-of-type {\n",
       "        vertical-align: middle;\n",
       "    }\n",
       "\n",
       "    .dataframe tbody tr th {\n",
       "        vertical-align: top;\n",
       "    }\n",
       "\n",
       "    .dataframe thead th {\n",
       "        text-align: right;\n",
       "    }\n",
       "</style>\n",
       "<table border=\"1\" class=\"dataframe\">\n",
       "  <thead>\n",
       "    <tr style=\"text-align: right;\">\n",
       "      <th></th>\n",
       "      <th>price</th>\n",
       "      <th>number_bedrooms</th>\n",
       "      <th>postcode_0Nb,</th>\n",
       "      <th>postcode_BR1</th>\n",
       "      <th>postcode_BR2</th>\n",
       "      <th>postcode_BR3</th>\n",
       "      <th>postcode_BR4</th>\n",
       "      <th>postcode_BR5</th>\n",
       "      <th>postcode_BR6</th>\n",
       "      <th>postcode_BR7</th>\n",
       "      <th>...</th>\n",
       "      <th>postcode_WC1N</th>\n",
       "      <th>postcode_WC1X</th>\n",
       "      <th>postcode_WC2A</th>\n",
       "      <th>postcode_WC2B</th>\n",
       "      <th>postcode_WC2E</th>\n",
       "      <th>postcode_WC2H</th>\n",
       "      <th>postcode_WC2N</th>\n",
       "      <th>postcode_WC2R</th>\n",
       "      <th>postcode_WD23</th>\n",
       "      <th>postcode_Wanstead,</th>\n",
       "    </tr>\n",
       "  </thead>\n",
       "  <tbody>\n",
       "    <tr>\n",
       "      <th>0</th>\n",
       "      <td>1700</td>\n",
       "      <td>3</td>\n",
       "      <td>0</td>\n",
       "      <td>0</td>\n",
       "      <td>0</td>\n",
       "      <td>0</td>\n",
       "      <td>0</td>\n",
       "      <td>0</td>\n",
       "      <td>0</td>\n",
       "      <td>0</td>\n",
       "      <td>...</td>\n",
       "      <td>0</td>\n",
       "      <td>0</td>\n",
       "      <td>0</td>\n",
       "      <td>0</td>\n",
       "      <td>0</td>\n",
       "      <td>0</td>\n",
       "      <td>0</td>\n",
       "      <td>0</td>\n",
       "      <td>0</td>\n",
       "      <td>0</td>\n",
       "    </tr>\n",
       "    <tr>\n",
       "      <th>1</th>\n",
       "      <td>2850</td>\n",
       "      <td>2</td>\n",
       "      <td>0</td>\n",
       "      <td>0</td>\n",
       "      <td>0</td>\n",
       "      <td>0</td>\n",
       "      <td>0</td>\n",
       "      <td>0</td>\n",
       "      <td>0</td>\n",
       "      <td>0</td>\n",
       "      <td>...</td>\n",
       "      <td>0</td>\n",
       "      <td>0</td>\n",
       "      <td>0</td>\n",
       "      <td>0</td>\n",
       "      <td>0</td>\n",
       "      <td>0</td>\n",
       "      <td>0</td>\n",
       "      <td>0</td>\n",
       "      <td>0</td>\n",
       "      <td>0</td>\n",
       "    </tr>\n",
       "    <tr>\n",
       "      <th>2</th>\n",
       "      <td>13975</td>\n",
       "      <td>4</td>\n",
       "      <td>0</td>\n",
       "      <td>0</td>\n",
       "      <td>0</td>\n",
       "      <td>0</td>\n",
       "      <td>0</td>\n",
       "      <td>0</td>\n",
       "      <td>0</td>\n",
       "      <td>0</td>\n",
       "      <td>...</td>\n",
       "      <td>0</td>\n",
       "      <td>0</td>\n",
       "      <td>0</td>\n",
       "      <td>0</td>\n",
       "      <td>0</td>\n",
       "      <td>0</td>\n",
       "      <td>0</td>\n",
       "      <td>0</td>\n",
       "      <td>0</td>\n",
       "      <td>0</td>\n",
       "    </tr>\n",
       "    <tr>\n",
       "      <th>3</th>\n",
       "      <td>1547</td>\n",
       "      <td>1</td>\n",
       "      <td>0</td>\n",
       "      <td>0</td>\n",
       "      <td>0</td>\n",
       "      <td>0</td>\n",
       "      <td>0</td>\n",
       "      <td>0</td>\n",
       "      <td>0</td>\n",
       "      <td>0</td>\n",
       "      <td>...</td>\n",
       "      <td>0</td>\n",
       "      <td>0</td>\n",
       "      <td>0</td>\n",
       "      <td>0</td>\n",
       "      <td>0</td>\n",
       "      <td>0</td>\n",
       "      <td>0</td>\n",
       "      <td>0</td>\n",
       "      <td>0</td>\n",
       "      <td>0</td>\n",
       "    </tr>\n",
       "    <tr>\n",
       "      <th>4</th>\n",
       "      <td>2000</td>\n",
       "      <td>3</td>\n",
       "      <td>0</td>\n",
       "      <td>0</td>\n",
       "      <td>0</td>\n",
       "      <td>0</td>\n",
       "      <td>0</td>\n",
       "      <td>0</td>\n",
       "      <td>0</td>\n",
       "      <td>0</td>\n",
       "      <td>...</td>\n",
       "      <td>0</td>\n",
       "      <td>0</td>\n",
       "      <td>0</td>\n",
       "      <td>0</td>\n",
       "      <td>0</td>\n",
       "      <td>0</td>\n",
       "      <td>0</td>\n",
       "      <td>0</td>\n",
       "      <td>0</td>\n",
       "      <td>0</td>\n",
       "    </tr>\n",
       "  </tbody>\n",
       "</table>\n",
       "<p>5 rows × 275 columns</p>\n",
       "</div>"
      ],
      "text/plain": [
       "   price  number_bedrooms  postcode_0Nb,  postcode_BR1  postcode_BR2  \\\n",
       "0   1700                3              0             0             0   \n",
       "1   2850                2              0             0             0   \n",
       "2  13975                4              0             0             0   \n",
       "3   1547                1              0             0             0   \n",
       "4   2000                3              0             0             0   \n",
       "\n",
       "   postcode_BR3  postcode_BR4  postcode_BR5  postcode_BR6  postcode_BR7  ...  \\\n",
       "0             0             0             0             0             0  ...   \n",
       "1             0             0             0             0             0  ...   \n",
       "2             0             0             0             0             0  ...   \n",
       "3             0             0             0             0             0  ...   \n",
       "4             0             0             0             0             0  ...   \n",
       "\n",
       "   postcode_WC1N  postcode_WC1X  postcode_WC2A  postcode_WC2B  postcode_WC2E  \\\n",
       "0              0              0              0              0              0   \n",
       "1              0              0              0              0              0   \n",
       "2              0              0              0              0              0   \n",
       "3              0              0              0              0              0   \n",
       "4              0              0              0              0              0   \n",
       "\n",
       "   postcode_WC2H  postcode_WC2N  postcode_WC2R  postcode_WD23  \\\n",
       "0              0              0              0              0   \n",
       "1              0              0              0              0   \n",
       "2              0              0              0              0   \n",
       "3              0              0              0              0   \n",
       "4              0              0              0              0   \n",
       "\n",
       "   postcode_Wanstead,  \n",
       "0                   0  \n",
       "1                   0  \n",
       "2                   0  \n",
       "3                   0  \n",
       "4                   0  \n",
       "\n",
       "[5 rows x 275 columns]"
      ]
     },
     "execution_count": 3,
     "metadata": {},
     "output_type": "execute_result"
    }
   ],
   "source": [
    "df.head(5)"
   ]
  },
  {
   "cell_type": "code",
   "execution_count": 4,
   "id": "861765a9",
   "metadata": {},
   "outputs": [
    {
     "data": {
      "text/html": [
       "<div>\n",
       "<style scoped>\n",
       "    .dataframe tbody tr th:only-of-type {\n",
       "        vertical-align: middle;\n",
       "    }\n",
       "\n",
       "    .dataframe tbody tr th {\n",
       "        vertical-align: top;\n",
       "    }\n",
       "\n",
       "    .dataframe thead th {\n",
       "        text-align: right;\n",
       "    }\n",
       "</style>\n",
       "<table border=\"1\" class=\"dataframe\">\n",
       "  <thead>\n",
       "    <tr style=\"text-align: right;\">\n",
       "      <th></th>\n",
       "      <th>count</th>\n",
       "      <th>mean</th>\n",
       "      <th>std</th>\n",
       "      <th>min</th>\n",
       "      <th>25%</th>\n",
       "      <th>50%</th>\n",
       "      <th>75%</th>\n",
       "      <th>max</th>\n",
       "    </tr>\n",
       "    <tr>\n",
       "      <th>number_bedrooms</th>\n",
       "      <th></th>\n",
       "      <th></th>\n",
       "      <th></th>\n",
       "      <th></th>\n",
       "      <th></th>\n",
       "      <th></th>\n",
       "      <th></th>\n",
       "      <th></th>\n",
       "    </tr>\n",
       "  </thead>\n",
       "  <tbody>\n",
       "    <tr>\n",
       "      <th>1</th>\n",
       "      <td>3385.0</td>\n",
       "      <td>1473.095126</td>\n",
       "      <td>791.166543</td>\n",
       "      <td>0.0</td>\n",
       "      <td>1050.00</td>\n",
       "      <td>1300.0</td>\n",
       "      <td>1668.00</td>\n",
       "      <td>9967.0</td>\n",
       "    </tr>\n",
       "    <tr>\n",
       "      <th>2</th>\n",
       "      <td>2821.0</td>\n",
       "      <td>2332.995392</td>\n",
       "      <td>1636.836503</td>\n",
       "      <td>0.0</td>\n",
       "      <td>1450.00</td>\n",
       "      <td>1800.0</td>\n",
       "      <td>2600.00</td>\n",
       "      <td>22849.0</td>\n",
       "    </tr>\n",
       "    <tr>\n",
       "      <th>3</th>\n",
       "      <td>1294.0</td>\n",
       "      <td>3442.666924</td>\n",
       "      <td>2934.726521</td>\n",
       "      <td>0.0</td>\n",
       "      <td>1750.00</td>\n",
       "      <td>2300.0</td>\n",
       "      <td>4000.00</td>\n",
       "      <td>33977.0</td>\n",
       "    </tr>\n",
       "    <tr>\n",
       "      <th>4</th>\n",
       "      <td>455.0</td>\n",
       "      <td>3995.810989</td>\n",
       "      <td>4186.150104</td>\n",
       "      <td>0.0</td>\n",
       "      <td>2149.00</td>\n",
       "      <td>2700.0</td>\n",
       "      <td>4199.50</td>\n",
       "      <td>39000.0</td>\n",
       "    </tr>\n",
       "    <tr>\n",
       "      <th>5</th>\n",
       "      <td>177.0</td>\n",
       "      <td>9394.214689</td>\n",
       "      <td>20445.443820</td>\n",
       "      <td>0.0</td>\n",
       "      <td>2500.00</td>\n",
       "      <td>3900.0</td>\n",
       "      <td>6847.00</td>\n",
       "      <td>173333.0</td>\n",
       "    </tr>\n",
       "    <tr>\n",
       "      <th>6</th>\n",
       "      <td>50.0</td>\n",
       "      <td>8447.500000</td>\n",
       "      <td>11925.649886</td>\n",
       "      <td>0.0</td>\n",
       "      <td>2999.25</td>\n",
       "      <td>4291.5</td>\n",
       "      <td>7247.75</td>\n",
       "      <td>73667.0</td>\n",
       "    </tr>\n",
       "    <tr>\n",
       "      <th>7</th>\n",
       "      <td>14.0</td>\n",
       "      <td>25199.500000</td>\n",
       "      <td>31230.060577</td>\n",
       "      <td>1975.0</td>\n",
       "      <td>3816.75</td>\n",
       "      <td>12748.5</td>\n",
       "      <td>23671.00</td>\n",
       "      <td>95333.0</td>\n",
       "    </tr>\n",
       "    <tr>\n",
       "      <th>9</th>\n",
       "      <td>1.0</td>\n",
       "      <td>36833.000000</td>\n",
       "      <td>NaN</td>\n",
       "      <td>36833.0</td>\n",
       "      <td>36833.00</td>\n",
       "      <td>36833.0</td>\n",
       "      <td>36833.00</td>\n",
       "      <td>36833.0</td>\n",
       "    </tr>\n",
       "    <tr>\n",
       "      <th>10</th>\n",
       "      <td>1.0</td>\n",
       "      <td>5500.000000</td>\n",
       "      <td>NaN</td>\n",
       "      <td>5500.0</td>\n",
       "      <td>5500.00</td>\n",
       "      <td>5500.0</td>\n",
       "      <td>5500.00</td>\n",
       "      <td>5500.0</td>\n",
       "    </tr>\n",
       "  </tbody>\n",
       "</table>\n",
       "</div>"
      ],
      "text/plain": [
       "                  count          mean           std      min       25%  \\\n",
       "number_bedrooms                                                          \n",
       "1                3385.0   1473.095126    791.166543      0.0   1050.00   \n",
       "2                2821.0   2332.995392   1636.836503      0.0   1450.00   \n",
       "3                1294.0   3442.666924   2934.726521      0.0   1750.00   \n",
       "4                 455.0   3995.810989   4186.150104      0.0   2149.00   \n",
       "5                 177.0   9394.214689  20445.443820      0.0   2500.00   \n",
       "6                  50.0   8447.500000  11925.649886      0.0   2999.25   \n",
       "7                  14.0  25199.500000  31230.060577   1975.0   3816.75   \n",
       "9                   1.0  36833.000000           NaN  36833.0  36833.00   \n",
       "10                  1.0   5500.000000           NaN   5500.0   5500.00   \n",
       "\n",
       "                     50%       75%       max  \n",
       "number_bedrooms                               \n",
       "1                 1300.0   1668.00    9967.0  \n",
       "2                 1800.0   2600.00   22849.0  \n",
       "3                 2300.0   4000.00   33977.0  \n",
       "4                 2700.0   4199.50   39000.0  \n",
       "5                 3900.0   6847.00  173333.0  \n",
       "6                 4291.5   7247.75   73667.0  \n",
       "7                12748.5  23671.00   95333.0  \n",
       "9                36833.0  36833.00   36833.0  \n",
       "10                5500.0   5500.00    5500.0  "
      ]
     },
     "execution_count": 4,
     "metadata": {},
     "output_type": "execute_result"
    }
   ],
   "source": [
    "df.groupby(\"number_bedrooms\")[\"price\"].describe()"
   ]
  },
  {
   "cell_type": "markdown",
   "id": "a0d6e521",
   "metadata": {},
   "source": [
    "From the table above, we can see that the standard deviation increases a lot the more bedrooms there are. This is to be expected as we don't know if the rental is an apartment or a house. This will most likely impact the results of the models when trying to make predictions for over 3 bedrooms."
   ]
  },
  {
   "cell_type": "code",
   "execution_count": 5,
   "id": "ca01ff30",
   "metadata": {},
   "outputs": [
    {
     "data": {
      "text/plain": [
       "number_bedrooms\n",
       "1      1473.095126\n",
       "2      2332.995392\n",
       "3      3442.666924\n",
       "4      3995.810989\n",
       "5      9394.214689\n",
       "6      8447.500000\n",
       "7     25199.500000\n",
       "9     36833.000000\n",
       "10     5500.000000\n",
       "Name: price, dtype: float64"
      ]
     },
     "execution_count": 5,
     "metadata": {},
     "output_type": "execute_result"
    }
   ],
   "source": [
    "df.groupby(\"number_bedrooms\")[\"price\"].mean()"
   ]
  },
  {
   "cell_type": "code",
   "execution_count": 6,
   "id": "22eaab8d",
   "metadata": {},
   "outputs": [],
   "source": [
    "mean_plot = df.groupby(\"number_bedrooms\")[\"price\"].mean()"
   ]
  },
  {
   "cell_type": "code",
   "execution_count": 7,
   "id": "8d2d77da",
   "metadata": {},
   "outputs": [
    {
     "data": {
      "image/png": "[encoded data removed]",
      "text/plain": [
       "<Figure size 720x432 with 1 Axes>"
      ]
     },
     "metadata": {
      "needs_background": "light"
     },
     "output_type": "display_data"
    }
   ],
   "source": [
    "mean_plot.plot(kind=\"bar\", figsize=(10,6), title=\"Average Rental Price for Number of Bedrooms\", ylabel=\"Price\");"
   ]
  },
  {
   "cell_type": "markdown",
   "id": "0af4a2d7",
   "metadata": {},
   "source": [
    "### Linear Regression Modelling\n",
    "\n",
    "One model will be with postcode dummy columns and the other model will be a simple model with just number of bedrooms and the price predictor."
   ]
  },
  {
   "cell_type": "code",
   "execution_count": 8,
   "id": "471219d9",
   "metadata": {},
   "outputs": [],
   "source": [
    "X_train, X_test, y_train, y_test = split_data(df)"
   ]
  },
  {
   "cell_type": "code",
   "execution_count": 9,
   "id": "0b9571b3",
   "metadata": {},
   "outputs": [],
   "source": [
    "model = lin_model_train(X_train, y_train)"
   ]
  },
  {
   "cell_type": "code",
   "execution_count": 10,
   "id": "a6310f98",
   "metadata": {},
   "outputs": [],
   "source": [
    "mae, mse, r2 = lin_model_predict(model, X_test, y_test)"
   ]
  },
  {
   "cell_type": "code",
   "execution_count": 11,
   "id": "16be1170",
   "metadata": {},
   "outputs": [
    {
     "name": "stdout",
     "output_type": "stream",
     "text": [
      "Mean Absolute Error: 6141485350230.952\n",
      "Mean Square Error  : 1.6433052741044766e+28\n",
      "R2 Score           : -8.581089371750631e+20\n"
     ]
    }
   ],
   "source": [
    "print(\"Mean Absolute Error: {}\".format(mae))\n",
    "print(\"Mean Square Error  : {}\".format(mse))\n",
    "print(\"R2 Score           : {}\".format(r2))"
   ]
  },
  {
   "cell_type": "code",
   "execution_count": 12,
   "id": "daa74eb9",
   "metadata": {},
   "outputs": [],
   "source": [
    "X_train_no_dum, X_test_no_dum, y_train_no_dum, y_test_no_dum = split_data_no_dummy(df)"
   ]
  },
  {
   "cell_type": "code",
   "execution_count": 13,
   "id": "60b58617",
   "metadata": {},
   "outputs": [],
   "source": [
    "model_no_dum = lin_model_train(X_train_no_dum.to_numpy().reshape(-1,1), y_train_no_dum)"
   ]
  },
  {
   "cell_type": "code",
   "execution_count": 14,
   "id": "9da51bf6",
   "metadata": {},
   "outputs": [],
   "source": [
    "mae_2, mse_2, r2_2 = lin_model_predict(model_no_dum, X_test_no_dum.to_numpy().reshape(-1,1), y_test_no_dum)"
   ]
  },
  {
   "cell_type": "code",
   "execution_count": 15,
   "id": "bc63287c",
   "metadata": {},
   "outputs": [
    {
     "name": "stdout",
     "output_type": "stream",
     "text": [
      "Mean Absolute Error for no dummy columns: 1398.3801995495555\n",
      "Mean Square Error for no dummy columns  : 17075503.599534933\n",
      "R2 Score  for no dummy columns          : 0.10834325937943079\n"
     ]
    }
   ],
   "source": [
    "print(\"Mean Absolute Error for no dummy columns: {}\".format(mae_2))\n",
    "print(\"Mean Square Error for no dummy columns  : {}\".format(mse_2))\n",
    "print(\"R2 Score  for no dummy columns          : {}\".format(r2_2))"
   ]
  },
  {
   "cell_type": "markdown",
   "id": "2507a563",
   "metadata": {},
   "source": [
    "The first model performs bad with all the dummy columns. There are a lot of postcode values, over 200 and not enough of each postcode. The model performs much better as a simple model, using bedrooms to predict the price."
   ]
  },
  {
   "cell_type": "code",
   "execution_count": 16,
   "id": "f0785070",
   "metadata": {},
   "outputs": [],
   "source": [
    "final_model = lin_model_train(df[\"number_bedrooms\"].to_numpy().reshape(-1,1), df[\"price\"])"
   ]
  },
  {
   "cell_type": "code",
   "execution_count": 17,
   "id": "75aa1050",
   "metadata": {},
   "outputs": [],
   "source": [
    "save_model(final_model)"
   ]
  },
  {
   "cell_type": "code",
   "execution_count": null,
   "id": "f86a1ec2",
   "metadata": {},
   "outputs": [],
   "source": []
  }
 ],
 "metadata": {
  "kernelspec": {
   "display_name": "Python 3",
   "language": "python",
   "name": "python3"
  },
  "language_info": {
   "codemirror_mode": {
    "name": "ipython",
    "version": 3
   },
   "file_extension": ".py",
   "mimetype": "text/x-python",
   "name": "python",
   "nbconvert_exporter": "python",
   "pygments_lexer": "ipython3",
   "version": "3.8.8"
  }
 },
 "nbformat": 4,
 "nbformat_minor": 5
}
